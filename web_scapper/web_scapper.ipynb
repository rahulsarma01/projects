{
  "nbformat": 4,
  "nbformat_minor": 0,
  "metadata": {
    "colab": {
      "provenance": []
    },
    "kernelspec": {
      "name": "python3",
      "display_name": "Python 3"
    },
    "language_info": {
      "name": "python"
    }
  },
  "cells": [
    {
      "cell_type": "code",
      "execution_count": null,
      "metadata": {
        "colab": {
          "base_uri": "https://localhost:8080/"
        },
        "id": "myU5DCb55ZXT",
        "outputId": "cd47aef9-ef67-4c4e-a38f-b44f5273bf6a"
      },
      "outputs": [
        {
          "output_type": "stream",
          "name": "stdout",
          "text": [
            "Title: Apple 2022 iPad Air M1 Chip (10.9-inch/27.69 cm, Wi-Fi, 64GB) - Blue (5th Generation)\n",
            "Price: 59,899.\n"
          ]
        }
      ],
      "source": [
        "import requests\n",
        "from bs4 import BeautifulSoup\n",
        "\n",
        "url = 'https://www.amazon.in/Apple-iPad-Air-10-9-inch-27-69-Wi-Fi/dp/B09V4FNFHN/ref=sr_1_3?crid=211IT03LJIZ8J&keywords=ipad&qid=1679884406&sprefix=ipa%2Caps%2C519&sr=8-3'\n",
        "headers = {\"User-Agent\": \"Mozilla/5.0 (Windows NT 10.0; Win64; x64) AppleWebKit/537.36 (KHTML, like Gecko) Chrome/78.0.3904.108 Safari/537.36\", \"Accept-Encoding\":\"gzip, deflate\", \"Accept\":\"text/html,application/xhtml+xml,application/xml;q=0.9,*/*;q=0.8\", \"DNT\":\"1\",\"Connection\":\"close\", \"Upgrade-Insecure-Requests\":\"1\"}\n",
        "\n",
        "# Send request to the URL and get the HTML content\n",
        "response = requests.get(url, headers=headers)\n",
        "html_content = response.content\n",
        "\n",
        "# Parse the HTML content using BeautifulSoup\n",
        "soup = BeautifulSoup(html_content, 'html.parser')\n",
        "\n",
        "# Find the title of the product\n",
        "title = soup.find(id='productTitle').get_text().strip()\n",
        "\n",
        "# Find the price of the product\n",
        "price = soup.find('span', {'class': 'a-price-whole'}).get_text().strip()\n",
        "\n",
        "print(f'Title: {title}')\n",
        "print(f'Price: {price}')\n"
      ]
    }
  ]
}