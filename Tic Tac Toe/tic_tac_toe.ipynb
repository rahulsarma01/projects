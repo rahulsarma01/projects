{
  "nbformat": 4,
  "nbformat_minor": 0,
  "metadata": {
    "colab": {
      "provenance": []
    },
    "kernelspec": {
      "name": "python3",
      "display_name": "Python 3"
    },
    "language_info": {
      "name": "python"
    }
  },
  "cells": [
    {
      "cell_type": "code",
      "execution_count": 1,
      "metadata": {
        "colab": {
          "base_uri": "https://localhost:8080/"
        },
        "id": "muHkERV4AJqM",
        "outputId": "881419bd-1ca4-424b-c7a7-ba4db59233a6"
      },
      "outputs": [
        {
          "output_type": "stream",
          "name": "stdout",
          "text": [
            "\r0% [Working]\r            \rGet:1 https://cloud.r-project.org/bin/linux/ubuntu focal-cran40/ InRelease [3,622 B]\n",
            "Hit:2 https://developer.download.nvidia.com/compute/cuda/repos/ubuntu2004/x86_64  InRelease\n",
            "Hit:3 http://ppa.launchpad.net/c2d4u.team/c2d4u4.0+/ubuntu focal InRelease\n",
            "Get:4 http://security.ubuntu.com/ubuntu focal-security InRelease [114 kB]\n",
            "Hit:5 http://archive.ubuntu.com/ubuntu focal InRelease\n",
            "Get:6 http://archive.ubuntu.com/ubuntu focal-updates InRelease [114 kB]\n",
            "Hit:7 http://ppa.launchpad.net/cran/libgit2/ubuntu focal InRelease\n",
            "Get:8 http://ppa.launchpad.net/deadsnakes/ppa/ubuntu focal InRelease [18.1 kB]\n",
            "Get:9 http://archive.ubuntu.com/ubuntu focal-backports InRelease [108 kB]\n",
            "Hit:10 http://ppa.launchpad.net/graphics-drivers/ppa/ubuntu focal InRelease\n",
            "Get:11 http://security.ubuntu.com/ubuntu focal-security/main amd64 Packages [2,549 kB]\n",
            "Hit:12 http://ppa.launchpad.net/ubuntugis/ppa/ubuntu focal InRelease\n",
            "Get:13 http://archive.ubuntu.com/ubuntu focal-updates/main amd64 Packages [3,027 kB]\n",
            "Get:14 http://ppa.launchpad.net/deadsnakes/ppa/ubuntu focal/main amd64 Packages [29.5 kB]\n",
            "Get:15 http://security.ubuntu.com/ubuntu focal-security/universe amd64 Packages [1,019 kB]\n",
            "Get:16 http://security.ubuntu.com/ubuntu focal-security/restricted amd64 Packages [2,003 kB]\n",
            "Get:17 http://archive.ubuntu.com/ubuntu focal-updates/universe amd64 Packages [1,314 kB]\n",
            "Fetched 10.3 MB in 3s (3,796 kB/s)\n",
            "Reading package lists... Done\n",
            "Reading package lists... Done\n",
            "Building dependency tree       \n",
            "Reading state information... Done\n",
            "The following additional packages will be installed:\n",
            "  libxxf86dga1\n",
            "Suggested packages:\n",
            "  mesa-utils\n",
            "The following NEW packages will be installed:\n",
            "  libxxf86dga1 x11-utils xvfb\n",
            "0 upgraded, 3 newly installed, 0 to remove and 23 not upgraded.\n",
            "Need to get 990 kB of archives.\n",
            "After this operation, 3,058 kB of additional disk space will be used.\n",
            "Get:1 http://archive.ubuntu.com/ubuntu focal/main amd64 libxxf86dga1 amd64 2:1.1.5-0ubuntu1 [12.0 kB]\n",
            "Get:2 http://archive.ubuntu.com/ubuntu focal/main amd64 x11-utils amd64 7.7+5 [199 kB]\n",
            "Get:3 http://archive.ubuntu.com/ubuntu focal-updates/universe amd64 xvfb amd64 2:1.20.13-1ubuntu1~20.04.6 [780 kB]\n",
            "Fetched 990 kB in 1s (1,027 kB/s)\n",
            "Selecting previously unselected package libxxf86dga1:amd64.\n",
            "(Reading database ... 128285 files and directories currently installed.)\n",
            "Preparing to unpack .../libxxf86dga1_2%3a1.1.5-0ubuntu1_amd64.deb ...\n",
            "Unpacking libxxf86dga1:amd64 (2:1.1.5-0ubuntu1) ...\n",
            "Selecting previously unselected package x11-utils.\n",
            "Preparing to unpack .../x11-utils_7.7+5_amd64.deb ...\n",
            "Unpacking x11-utils (7.7+5) ...\n",
            "Selecting previously unselected package xvfb.\n",
            "Preparing to unpack .../xvfb_2%3a1.20.13-1ubuntu1~20.04.6_amd64.deb ...\n",
            "Unpacking xvfb (2:1.20.13-1ubuntu1~20.04.6) ...\n",
            "Setting up xvfb (2:1.20.13-1ubuntu1~20.04.6) ...\n",
            "Setting up libxxf86dga1:amd64 (2:1.1.5-0ubuntu1) ...\n",
            "Setting up x11-utils (7.7+5) ...\n",
            "Processing triggers for man-db (2.9.1-1) ...\n",
            "Processing triggers for libc-bin (2.31-0ubuntu9.9) ...\n"
          ]
        }
      ],
      "source": [
        "!apt-get update\n",
        "!apt-get install -y xvfb x11-utils"
      ]
    },
    {
      "cell_type": "code",
      "source": [
        "!Xvfb :99 -screen 0 1024x768x24 > /dev/null 2>&1 &"
      ],
      "metadata": {
        "id": "4GDuQWAnASxf"
      },
      "execution_count": 2,
      "outputs": []
    },
    {
      "cell_type": "code",
      "source": [
        "import os\n",
        "os.environ['DISPLAY'] = ':99'"
      ],
      "metadata": {
        "id": "7kWCNMjEATHP"
      },
      "execution_count": 3,
      "outputs": []
    },
    {
      "cell_type": "code",
      "source": [
        "import tkinter as tk\n",
        "from tkinter import messagebox\n",
        "import random\n",
        "\n",
        "class TicTacToe:\n",
        "    def __init__(self, master):\n",
        "        self.master = master\n",
        "        self.master.title(\"Tic Tac Toe\")\n",
        "        self.current_player = \"X\"\n",
        "        self.board = [[\" \" for i in range(3)] for j in range(3)]\n",
        "        self.buttons = [[None for i in range(3)] for j in range(3)]\n",
        "        for i in range(3):\n",
        "            for j in range(3):\n",
        "                button = tk.Button(self.master, text=\"\", font=(\"Helvetica\", 40), width=3, height=1, command=lambda row=i, col=j: self.on_button_click(row, col))\n",
        "                button.grid(row=i, column=j)\n",
        "                self.buttons[i][j] = button\n",
        "\n",
        "    def on_button_click(self, row, col):\n",
        "        if self.board[row][col] == \" \":\n",
        "            self.board[row][col] = self.current_player\n",
        "            self.buttons[row][col].config(text=self.current_player)\n",
        "            if self.check_winner():\n",
        "                messagebox.showinfo(\"Tic Tac Toe\", f\"{self.current_player} wins!\")\n",
        "                self.reset()\n",
        "            elif self.check_draw():\n",
        "                messagebox.showinfo(\"Tic Tac Toe\", \"Draw!\")\n",
        "                self.reset()\n",
        "            else:\n",
        "                self.current_player = \"O\"\n",
        "                self.computer_move()\n",
        "\n",
        "    def computer_move(self):\n",
        "        empty_cells = []\n",
        "        for i in range(3):\n",
        "            for j in range(3):\n",
        "                if self.board[i][j] == \" \":\n",
        "                    empty_cells.append((i, j))\n",
        "        if empty_cells:\n",
        "            row, col = random.choice(empty_cells)\n",
        "            self.board[row][col] = self.current_player\n",
        "            self.buttons[row][col].config(text=self.current_player)\n",
        "            if self.check_winner():\n",
        "                messagebox.showinfo(\"Tic Tac Toe\", f\"{self.current_player} wins!\")\n",
        "                self.reset()\n",
        "            elif self.check_draw():\n",
        "                messagebox.showinfo(\"Tic Tac Toe\", \"Draw!\")\n",
        "                self.reset()\n",
        "            else:\n",
        "                self.current_player = \"X\"\n",
        "        else:\n",
        "            messagebox.showinfo(\"Tic Tac Toe\", \"Draw!\")\n",
        "            self.reset()\n",
        "\n",
        "    def check_winner(self):\n",
        "        for i in range(3):\n",
        "            if self.board[i][0] == self.board[i][1] == self.board[i][2] != \" \":\n",
        "                return True\n",
        "            elif self.board[0][i] == self.board[1][i] == self.board[2][i] != \" \":\n",
        "                return True\n",
        "        if self.board[0][0] == self.board[1][1] == self.board[2][2] != \" \":\n",
        "            return True\n",
        "        elif self.board[0][2] == self.board[1][1] == self.board[2][0] != \" \":\n",
        "            return True\n",
        "        else:\n",
        "            return False\n",
        "\n",
        "    def check_draw(self):\n",
        "        for row in self.board:\n",
        "            for cell in row:\n",
        "                if cell == \" \":\n",
        "                    return False\n",
        "        return True\n",
        "\n",
        "    def reset(self):\n",
        "        self.current_player = \"X\"\n",
        "        self.board = [[\" \" for i in range(3)] for j in range(3)]\n",
        "        for i in range(3):\n",
        "            for j in range(3):\n",
        "                self.buttons[i][j].config(text=\"\")\n",
        "                \n",
        "root = tk.Tk()\n",
        "app = TicTacToe(root)\n",
        "root.mainloop()"
      ],
      "metadata": {
        "id": "20hqk_teATW1"
      },
      "execution_count": null,
      "outputs": []
    }
  ]
}